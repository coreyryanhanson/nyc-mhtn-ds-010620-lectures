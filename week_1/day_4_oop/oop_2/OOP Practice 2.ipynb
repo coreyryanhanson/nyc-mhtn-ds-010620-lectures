{
 "cells": [
  {
   "cell_type": "markdown",
   "metadata": {},
   "source": [
    "## More OOP Practice!\n",
    "\n",
    "Learning goals:\n",
    "- Practice creating classes and instance objects\n",
    "- Understand the distinction between classes and instance objects\n",
    "- Understand the difference between class attributes and instance attributes"
   ]
  },
  {
   "cell_type": "markdown",
   "metadata": {},
   "source": [
    "![mayes](dog.jpeg)"
   ]
  },
  {
   "cell_type": "markdown",
   "metadata": {},
   "source": [
    "### Let's define a Dog class"
   ]
  },
  {
   "cell_type": "code",
   "execution_count": 1,
   "metadata": {},
   "outputs": [],
   "source": [
    "class Dog():\n",
    "    pass\n",
    "    "
   ]
  },
  {
   "cell_type": "markdown",
   "metadata": {},
   "source": [
    "#### Create an instance of the Dog class and assign it to a variable. Check the type of that variable."
   ]
  },
  {
   "cell_type": "code",
   "execution_count": 2,
   "metadata": {},
   "outputs": [],
   "source": [
    "fido = Dog()"
   ]
  },
  {
   "cell_type": "code",
   "execution_count": 4,
   "metadata": {},
   "outputs": [
    {
     "data": {
      "text/plain": [
       "__main__.Dog"
      ]
     },
     "execution_count": 4,
     "metadata": {},
     "output_type": "execute_result"
    }
   ],
   "source": [
    "type(fido)"
   ]
  },
  {
   "cell_type": "markdown",
   "metadata": {},
   "source": [
    "#### Add an initialization function so that every instance of the Dog class has a name and an age associated with it"
   ]
  },
  {
   "cell_type": "code",
   "execution_count": 5,
   "metadata": {},
   "outputs": [],
   "source": [
    "class Dog():\n",
    "    legs=4\n",
    "    def __init__(self, name, age):\n",
    "        dog.name = name\n",
    "        dog.age = age"
   ]
  },
  {
   "cell_type": "markdown",
   "metadata": {},
   "source": [
    "#### Every dog might have a different name and/or age, but all dogs are mammals! \n",
    "\n",
    "Add a class attribute called species so that every instance of Dog is a 'mammal'."
   ]
  },
  {
   "cell_type": "code",
   "execution_count": 19,
   "metadata": {},
   "outputs": [],
   "source": [
    "class Dog():\n",
    "    legs=4\n",
    "    def __init__(self, name, age):\n",
    "        species = \"mammal\"\n",
    "        self.name = name\n",
    "        self.age = age\n",
    "        self.species = species"
   ]
  },
  {
   "cell_type": "markdown",
   "metadata": {},
   "source": [
    "#### Create two separate instances of Dog, and assign them to variables.\n",
    "Print \"{name of dog1} is {age of dog 1} and {name of dog2} is {age of dog 2}\""
   ]
  },
  {
   "cell_type": "code",
   "execution_count": 20,
   "metadata": {},
   "outputs": [
    {
     "name": "stdout",
     "output_type": "stream",
     "text": [
      "Fido is 7 and Bruno is 5\n"
     ]
    }
   ],
   "source": [
    "dog1 = Dog(\"Fido\" , 7)\n",
    "dog2 = Dog(\"Bruno\" , 5)\n",
    "print(dog1.name+ \" is \" + str(dog1.age)+ \" and \" + dog2.name+ \" is \" + str(dog2.age))"
   ]
  },
  {
   "cell_type": "markdown",
   "metadata": {},
   "source": [
    "#### Check the species of these dogs!"
   ]
  },
  {
   "cell_type": "code",
   "execution_count": 21,
   "metadata": {},
   "outputs": [
    {
     "name": "stdout",
     "output_type": "stream",
     "text": [
      "Fido is a mammal\n"
     ]
    }
   ],
   "source": [
    "print(dog1.name + \" is a \" + dog1.species)"
   ]
  },
  {
   "cell_type": "markdown",
   "metadata": {},
   "source": [
    "#### Dogs make sounds too, like barking! \n",
    "Add an instance method to the Dog class called speak, that accepts a sound and prints out, \n",
    "\"{name of dog} says {sound passed into the method}\""
   ]
  },
  {
   "cell_type": "code",
   "execution_count": 26,
   "metadata": {},
   "outputs": [
    {
     "name": "stdout",
     "output_type": "stream",
     "text": [
      "moo\n"
     ]
    }
   ],
   "source": [
    "class Dog():\n",
    "    legs=4\n",
    "    def __init__(self, name, age):\n",
    "        species = \"mammal\"\n",
    "        self.name = name\n",
    "        self.age = age\n",
    "        self.species = species\n",
    "    def speak(self, sound):\n",
    "        self.sound = sound\n",
    "        \n",
    "dog1.speak(\"moo\")\n",
    "\n",
    "print(dog1.sound)"
   ]
  },
  {
   "cell_type": "markdown",
   "metadata": {},
   "source": [
    "#### Add an instance method called description that prints out:\n",
    "\"{dog name} is {dog age} years old\""
   ]
  },
  {
   "cell_type": "code",
   "execution_count": 31,
   "metadata": {},
   "outputs": [
    {
     "name": "stdout",
     "output_type": "stream",
     "text": [
      "Fido is 7\n"
     ]
    }
   ],
   "source": [
    "class Dog():\n",
    "    legs=4\n",
    "    def __init__(self, name, age):\n",
    "        species = \"mammal\"\n",
    "        self.name = name\n",
    "        self.age = age\n",
    "        self.species = species\n",
    "    def speak(self, sound):\n",
    "        self.sound = sound\n",
    "    def description(self):\n",
    "        print(self.name+ \" is \" + str(self.age))\n",
    "        \n",
    "dog1 = Dog(\"Fido\" , 7)\n",
    "dog1.description()"
   ]
  },
  {
   "cell_type": "markdown",
   "metadata": {},
   "source": [
    "#### Create a new instance of the Dog class and assign it to a variable.\n",
    "Use the description and speak instance methods to display information about the dog."
   ]
  },
  {
   "cell_type": "code",
   "execution_count": 32,
   "metadata": {},
   "outputs": [],
   "source": [
    "dog3 = Dog(\"generic uncreative name\", 3.14)"
   ]
  },
  {
   "cell_type": "code",
   "execution_count": 35,
   "metadata": {},
   "outputs": [
    {
     "name": "stdout",
     "output_type": "stream",
     "text": [
      "generic uncreative name is 3.14\n"
     ]
    }
   ],
   "source": [
    "dog3.sound\n",
    "dog3.description()"
   ]
  },
  {
   "cell_type": "markdown",
   "metadata": {},
   "source": [
    "## Your Turn:\n",
    "#### Now you are going to work with a partner to create a class. \n",
    "#### Your class will construct a descriptive statistics calculator using our functions from our previous lecture. Your class should have the following attributes:\n",
    "\n",
    "- .data - where you will hold your data\n",
    "- .length - that tells you the length of your data list\n",
    "- .mean\n",
    "- .median\n",
    "- .variance\n",
    "- .stand_dev\n",
    "\n",
    "#### Your class should have the following methods:\n",
    "\n",
    "- .add_data() - which can take in a value or a list of values and extend the .data attribute\n",
    "- .remove_data() accept a list of numbers and remove any of the numbers in that list from your object data\n"
   ]
  },
  {
   "cell_type": "code",
   "execution_count": 31,
   "metadata": {},
   "outputs": [
    {
     "data": {
      "text/plain": [
       "[2, 20, 45, 15, 10, 55]"
      ]
     },
     "execution_count": 31,
     "metadata": {},
     "output_type": "execute_result"
    }
   ],
   "source": [
    "#!/usr/bin/env python3\n",
    "# -*- coding: utf-8 -*-\n",
    "\n",
    "import math\n",
    "\n",
    "\n",
    "\n",
    "class Calculator:\n",
    "    def __init__(self, data):\n",
    "        self.dataset = data\n",
    "\n",
    "    @property\n",
    "    def length(self):\n",
    "        return len(self.dataset)\n",
    "\n",
    "    @property\n",
    "    def mean(self):\n",
    "        total = 0\n",
    "        for data in self.dataset:\n",
    "            total += data\n",
    "        return total / len(self.dataset)\n",
    "\n",
    "    @property\n",
    "    def median(self):\n",
    "        ordered = sorted(self.dataset)\n",
    "        length = self.length()\n",
    "        if length % 2:\n",
    "            n = int((length - 1) / 2)\n",
    "            return ordered[n]\n",
    "        else:\n",
    "            m1 = int(length / 2)\n",
    "            m2 = m1 - 1\n",
    "            return (ordered[m1] + ordered[m2]) / 2\n",
    "\n",
    "    @property\n",
    "    def variance(self):\n",
    "        total = 0\n",
    "        for datum in self.dataset:\n",
    "            total += (datum - self.mean) ** 2\n",
    "        return total / (len(self.dataset)-1)\n",
    "\n",
    "    @property\n",
    "    def std_dev(self):\n",
    "        return math.sqrt(self.variance)\n",
    "\n",
    "    def add_data(self, data):\n",
    "        self.dataset.extend(data)\n",
    "\n",
    "    def remove_data(self, deletions):\n",
    "        new_list = []\n",
    "        for data in self.dataset:\n",
    "            if data not in deletions:\n",
    "                new_list.append(data)\n",
    "        self.dataset = new_list\n",
    "\n",
    "        \n",
    "\n",
    "\n",
    "\n",
    "\n",
    "data = [2, 20, 45, 15, 10, 55, 80]\n",
    "instance = Calculator(data)\n",
    "instance.remove_data([80])\n",
    "expected_mean = 24.5\n",
    "\n",
    "instance.dataset"
   ]
  },
  {
   "cell_type": "code",
   "execution_count": null,
   "metadata": {},
   "outputs": [],
   "source": []
  },
  {
   "cell_type": "code",
   "execution_count": null,
   "metadata": {},
   "outputs": [],
   "source": []
  },
  {
   "cell_type": "code",
   "execution_count": null,
   "metadata": {},
   "outputs": [],
   "source": []
  },
  {
   "cell_type": "code",
   "execution_count": 40,
   "metadata": {},
   "outputs": [],
   "source": []
  },
  {
   "cell_type": "code",
   "execution_count": null,
   "metadata": {},
   "outputs": [],
   "source": []
  },
  {
   "cell_type": "code",
   "execution_count": null,
   "metadata": {},
   "outputs": [],
   "source": []
  }
 ],
 "metadata": {
  "kernelspec": {
   "display_name": "Python 3",
   "language": "python",
   "name": "python3"
  },
  "language_info": {
   "codemirror_mode": {
    "name": "ipython",
    "version": 3
   },
   "file_extension": ".py",
   "mimetype": "text/x-python",
   "name": "python",
   "nbconvert_exporter": "python",
   "pygments_lexer": "ipython3",
   "version": "3.6.9"
  }
 },
 "nbformat": 4,
 "nbformat_minor": 2
}
