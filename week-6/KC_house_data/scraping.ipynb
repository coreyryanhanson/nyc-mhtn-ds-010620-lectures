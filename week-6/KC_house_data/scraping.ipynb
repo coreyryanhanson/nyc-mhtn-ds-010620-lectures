{
 "cells": [
  {
   "cell_type": "code",
   "execution_count": 76,
   "metadata": {},
   "outputs": [],
   "source": [
    "from bs4 import BeautifulSoup\n",
    "import pandas as pd\n",
    "import requests\n",
    "import time\n",
    "import numpy as np"
   ]
  },
  {
   "cell_type": "code",
   "execution_count": 13,
   "metadata": {},
   "outputs": [],
   "source": [
    "html_page = requests.get('https://www.kingcounty.gov/depts/health/codes/cities.aspx') # Make a get request to retrieve the page\n",
    "soup = BeautifulSoup(html_page.content, 'html.parser') # Pass the page contents to beautiful soup for parsing\n",
    "main = soup.select(\"#main-content-sr\")\n",
    "rows = main[0].select(\".col-sm-4\")"
   ]
  },
  {
   "cell_type": "code",
   "execution_count": 40,
   "metadata": {},
   "outputs": [
    {
     "name": "stderr",
     "output_type": "stream",
     "text": [
      "/Users/coreyhanson/opt/anaconda3/envs/learn-env/lib/python3.6/site-packages/ipykernel_launcher.py:5: FutureWarning: The signature of `Series.to_csv` was aligned to that of `DataFrame.to_csv`, and argument 'header' will change its default value from False to True: please pass an explicit value to suppress this warning.\n",
      "  \"\"\"\n"
     ]
    }
   ],
   "source": [
    "items = []\n",
    "for row in rows:\n",
    "    items.extend([item.text for item in row.select(\"font\")])\n",
    "df = pd.Series(items)\n",
    "df.to_csv(\"kc_town_names.csv\")"
   ]
  },
  {
   "cell_type": "code",
   "execution_count": 78,
   "metadata": {},
   "outputs": [],
   "source": [
    "zipcodes = pd.read_csv(\"kc_house_data_train.csv\")[\"zipcode\"].unique()\n",
    "zipcodes = list(map(lambda x: str(x), zipcodes))\n",
    "results = []\n",
    "for zipcode in zipcodes:\n",
    "    html_page = requests.get(f'https://www.zip-codes.com/zip-code/{zipcode}/zip-code-{zipcode}.asp') \n",
    "    soup = BeautifulSoup(html_page.content, 'html.parser')\n",
    "    city = soup.select(\".statTable\")[0].select(\".info a\")[0].text\n",
    "    result = [zipcode, city]\n",
    "    results.append(result)\n",
    "    time.sleep(np.random.uniform(0,1))\n"
   ]
  },
  {
   "cell_type": "code",
   "execution_count": 81,
   "metadata": {},
   "outputs": [],
   "source": [
    "city_zip = pd.DataFrame(results)\n",
    "city_zip.columns = [\"city\", \"zip\"]"
   ]
  },
  {
   "cell_type": "code",
   "execution_count": 85,
   "metadata": {},
   "outputs": [],
   "source": [
    "city_zip.to_csv(\"city_zip.csv\", index = False)"
   ]
  },
  {
   "cell_type": "code",
   "execution_count": null,
   "metadata": {},
   "outputs": [],
   "source": []
  }
 ],
 "metadata": {
  "kernelspec": {
   "display_name": "Python [conda env:learn-env] *",
   "language": "python",
   "name": "conda-env-learn-env-py"
  },
  "language_info": {
   "codemirror_mode": {
    "name": "ipython",
    "version": 3
   },
   "file_extension": ".py",
   "mimetype": "text/x-python",
   "name": "python",
   "nbconvert_exporter": "python",
   "pygments_lexer": "ipython3",
   "version": "3.6.9"
  }
 },
 "nbformat": 4,
 "nbformat_minor": 2
}
